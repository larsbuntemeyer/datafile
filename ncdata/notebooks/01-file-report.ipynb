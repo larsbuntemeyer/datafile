{
 "cells": [
  {
   "cell_type": "markdown",
   "metadata": {},
   "source": [
    "# Creating a File Report for `CMIP5` Data"
   ]
  },
  {
   "cell_type": "markdown",
   "metadata": {},
   "source": [
    "First, import the `FileReport` class from the `PyDatSci.FileReport` module."
   ]
  },
  {
   "cell_type": "code",
   "execution_count": 1,
   "metadata": {},
   "outputs": [],
   "source": [
    "from PyDatSci.FileReport import FileReport"
   ]
  },
  {
   "cell_type": "markdown",
   "metadata": {},
   "source": [
    "Set the root directory that should be scanned. We will also scan all subdirectories."
   ]
  },
  {
   "cell_type": "code",
   "execution_count": 2,
   "metadata": {},
   "outputs": [],
   "source": [
    "rootDir = '/work/ch0636/eddy/pool/sims/cmip5'"
   ]
  },
  {
   "cell_type": "markdown",
   "metadata": {},
   "source": [
    "Now, create a `FileReport` object from `rootDir` and start the reporting process. This might take some time, if your directories contain a large number of files."
   ]
  },
  {
   "cell_type": "code",
   "execution_count": 3,
   "metadata": {},
   "outputs": [
    {
     "name": "stdout",
     "output_type": "stream",
     "text": [
      "Scanning: /work/ch0636/eddy/pool/sims/cmip5/IPCC-AR5-SLR-DATA                      finished scan               \n",
      "Found 12034 files\n",
      "Scanning for Symlinks...\n",
      "Progress: |██████████████████████████████████████████████████| 100.0% Complete-| 0.0% Complete\n",
      "Checking valid files...\n",
      "Progress: |██████████████████████████████████████████████████| 100.0% Complete-----| 0.0% Complete\n",
      "Creating suffix overview...\n",
      "Progress: |██████████████████████████████████████████████████| 100.0% Complete0% Complete\n"
     ]
    }
   ],
   "source": [
    "report = FileReport(rootDir)\n",
    "report.report()"
   ]
  },
  {
   "cell_type": "markdown",
   "metadata": {},
   "source": [
    "After the scanning process, we write the contents of `FileReport` to disk."
   ]
  },
  {
   "cell_type": "code",
   "execution_count": 9,
   "metadata": {},
   "outputs": [],
   "source": [
    "report.write('/work/ch0636/eddy/pool/sims/cmip5/file-report-cmip5.fr')"
   ]
  },
  {
   "cell_type": "markdown",
   "metadata": {},
   "source": [
    "Now, we can print the report to get an overview:"
   ]
  },
  {
   "cell_type": "code",
   "execution_count": 5,
   "metadata": {},
   "outputs": [
    {
     "name": "stdout",
     "output_type": "stream",
     "text": [
      "\n",
      "FileReport of /work/ch0636/eddy/pool/sims/cmip5\n",
      "\n",
      " Number of Files               : 12034\n",
      " Number of valid Files         : 12031\n",
      " Number of Symlinks            : 0\n",
      " Number of missing Symlinks    : 3\n",
      " \n",
      " Number of Suffixes            : 11\n",
      "               .py             : 59\n",
      "               .txt            : 16\n",
      "               .p              : 9\n",
      "               .png            : 31\n",
      "               .status         : 2\n",
      "               .csv#           : 2\n",
      "               .gr             : 5\n",
      "               .nc             : 11902\n",
      "               .sh             : 2\n",
      "               .csv            : 2\n",
      "               no suffix       : 1\n",
      "\n"
     ]
    }
   ],
   "source": [
    "print(report)"
   ]
  },
  {
   "cell_type": "markdown",
   "metadata": {},
   "source": [
    "The report sorts the files with respect to their suffix and also checks for missing symbolic links. The report is iteratible, e.g., to get a list of all shell scripts, simply check:"
   ]
  },
  {
   "cell_type": "code",
   "execution_count": 6,
   "metadata": {},
   "outputs": [
    {
     "name": "stdout",
     "output_type": "stream",
     "text": [
      "['/work/ch0636/eddy/pool/sims/cmip5/download/wget-20180731121952.sh', '/work/ch0636/eddy/pool/sims/cmip5/download/wget-20180730165342.sh']\n"
     ]
    }
   ],
   "source": [
    "print(report['.sh'])"
   ]
  },
  {
   "cell_type": "markdown",
   "metadata": {},
   "source": [
    "We can see that there are 3 broken symbolic links somewhere in `rootDir`. To see, which links are broken, you can get a list by accessing the internal file lists of the report, e.g."
   ]
  },
  {
   "cell_type": "code",
   "execution_count": 7,
   "metadata": {},
   "outputs": [
    {
     "name": "stdout",
     "output_type": "stream",
     "text": [
      "['/work/ch0636/eddy/pool/sims/cmip5/GFDL-CM3/fx/areacella_fx_GFDL-CM3_historical_r0i0p0.nc', '/work/ch0636/eddy/pool/sims/cmip5/GFDL-CM3/fx/sftlf_fx_GFDL-CM3_historical_r0i0p0.nc', '/work/ch0636/eddy/pool/sims/cmip5/GFDL-CM3/fx/orog_fx_GFDL-CM3_historical_r0i0p0.nc']\n"
     ]
    }
   ],
   "source": [
    "print(report.missing)"
   ]
  },
  {
   "cell_type": "markdown",
   "metadata": {},
   "source": [
    "However, the missing links are sorted out automatically (you can see that by checking the number of valid files), e.g., by print the length of the valid file list in the report:"
   ]
  },
  {
   "cell_type": "code",
   "execution_count": 8,
   "metadata": {},
   "outputs": [
    {
     "name": "stdout",
     "output_type": "stream",
     "text": [
      "12031\n"
     ]
    }
   ],
   "source": [
    "print(len(report.valid))"
   ]
  }
 ],
 "metadata": {
  "kernelspec": {
   "display_name": "Python 3 (using the module python/3.5.2)",
   "language": "python",
   "name": "python_3.5.2"
  },
  "language_info": {
   "codemirror_mode": {
    "name": "ipython",
    "version": 3
   },
   "file_extension": ".py",
   "mimetype": "text/x-python",
   "name": "python",
   "nbconvert_exporter": "python",
   "pygments_lexer": "ipython3",
   "version": "3.5.2"
  }
 },
 "nbformat": 4,
 "nbformat_minor": 2
}
